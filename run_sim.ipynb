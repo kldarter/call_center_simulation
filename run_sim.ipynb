{
 "cells": [
  {
   "cell_type": "markdown",
   "metadata": {},
   "source": [
    "CONTACT CENTER SIMULATION"
   ]
  },
  {
   "cell_type": "code",
   "execution_count": 2,
   "metadata": {},
   "outputs": [],
   "source": [
    "from simulation import run_Simulation, plotHistogram\n",
    "import random\n",
    "import pandas as pd\n",
    "import simpy\n",
    "import numpy as np\n",
    "import ipysheet\n",
    "from ipysheet import sheet,cell,column,row,to_dataframe\n",
    "import matplotlib.pyplot as plt\n"
   ]
  },
  {
   "cell_type": "markdown",
   "metadata": {},
   "source": [
    "Create the parameters for the simulation:\n",
    "- Arrivals: rate of calls arriving in contact center\n",
    "- SIM_TIME: how long the simulation will run for\n",
    "- svc_lvl_thresh: the threshold for calculating service level\n",
    "- NUM_SIMS: the number of simulations run\n",
    "- pct_start_on_call: the percentage of agents that begin the simulation on a call"
   ]
  },
  {
   "cell_type": "code",
   "execution_count": 4,
   "metadata": {},
   "outputs": [
    {
     "data": {
      "application/vnd.jupyter.widget-view+json": {
       "model_id": "65e7a8e554934477b4c21ce6be002d77",
       "version_major": 2,
       "version_minor": 0
      },
      "text/plain": [
       "Sheet(cells=(Cell(column_start=0, row_end=0, row_start=0, squeeze_column=False, type='numeric', value=[1, 600,…"
      ]
     },
     "metadata": {},
     "output_type": "display_data"
    }
   ],
   "source": [
    "# This creates the spreadsheet for user to enter the simulation parameters\n",
    "sim_sheet = sheet(rows=1,columns=5,column_headers=['Arrivals','SIM_TIME','svc_lvl_thresh','NUM_SIMS','pct_start_on_call'])\n",
    "row(0,[1,600,30,100,0.95])\n",
    "sim_sheet"
   ]
  },
  {
   "cell_type": "code",
   "execution_count": 7,
   "metadata": {},
   "outputs": [
    {
     "name": "stdout",
     "output_type": "stream",
     "text": [
      "   Arrivals  SIM_TIME  svc_lvl_thresh  NUM_SIMS  pct_start_on_call\n",
      "0         1       600              30        10               0.95\n"
     ]
    }
   ],
   "source": [
    "# Run this cell to generate the parameter dataframe for the simulation\n",
    "sim_params = to_dataframe(sim_sheet)\n",
    "print(sim_params)"
   ]
  },
  {
   "cell_type": "markdown",
   "metadata": {},
   "source": [
    "Create the parameters for each tier:\n",
    "- Tier: the label of each tier\n",
    "- Talk_mu: the mean of talk time\n",
    "- Wrap_mu: the mean of wrap time (time spent working after call)\n",
    "- Hold_mu: the mean of hold time (time with caller on hold)\n",
    "- Talk_std: the standard deviation of talk time\n",
    "- Wrap_std: the standard deviation of wrap time\n",
    "- Hold_std: the standard deviation of hold time\n",
    "- Volume: the cumulative percent of volume for each tier\n",
    "- Patience: the average patience of the caller (standard deviation is 60)\n",
    "- Transfer: the percent of calls transferred\n",
    "- Agents: the number of agents in each tier\n",
    "\n",
    "Note: all times are in seconds. \n",
    "The volume percentage is cumulative: for example, values of [0.5,0.75,1] will create 50% of the calls in the first tier, 25% in the second, and 25% in the third. "
   ]
  },
  {
   "cell_type": "code",
   "execution_count": 4,
   "metadata": {},
   "outputs": [
    {
     "data": {
      "application/vnd.jupyter.widget-view+json": {
       "model_id": "ea2fc1c1195b4478bdefcaa027c880e9",
       "version_major": 2,
       "version_minor": 0
      },
      "text/plain": [
       "Sheet(cells=(Cell(column_end=10, column_start=0, row_end=0, row_start=0, squeeze_column=False, type='numeric',…"
      ]
     },
     "metadata": {},
     "output_type": "display_data"
    }
   ],
   "source": [
    "# Code to generate ipysheet for tier params based on user input for number of tiers\n",
    "\n",
    "# update num_tiers to the number of tiers in call center\n",
    "num_tiers = 3\n",
    "\n",
    "tier_sheet = sheet(rows=num_tiers,columns=11,column_headers=['Tier','Talk_mu','Wrap_mu','Hold_mu','Talk_std',\\\n",
    "    'Wrap_std','Hold_std','Volume','Patience','Transfer','Agents'])\n",
    "i = 0\n",
    "for i in range(num_tiers):\n",
    "    row(i,[0,0,0,0,0,0,0,0,0,0,0])\n",
    "\n",
    "tier_sheet"
   ]
  },
  {
   "cell_type": "code",
   "execution_count": 5,
   "metadata": {},
   "outputs": [
    {
     "name": "stdout",
     "output_type": "stream",
     "text": [
      "   Tier  Talk_mu  Wrap_mu  Hold_mu  Talk_std  Wrap_std  Hold_std  Volume  \\\n",
      "0     0        0        0        0         0         0         0       0   \n",
      "1     0        0        0        0         0         0         0       0   \n",
      "2     0        0        0        0         0         0         0       0   \n",
      "\n",
      "   Patience  Transfer  Agents  \n",
      "0         0         0       0  \n",
      "1         0         0       0  \n",
      "2         0         0       0  \n"
     ]
    }
   ],
   "source": [
    "tier_params = to_dataframe(tier_sheet)\n",
    "print(tier_params)"
   ]
  },
  {
   "cell_type": "code",
   "execution_count": 8,
   "metadata": {},
   "outputs": [],
   "source": [
    "\"\"\"\n",
    "This is an example of tier parameters for 3 tiers (without using ipysheet entry)\n",
    "Uncomment the lines below to generate the example tier_params values for the simulation.\n",
    "\"\"\"\n",
    "\n",
    "\"\"\"\n",
    "tier_params_dict = {'Tier':['T1','T2','T3'],'Talk_mu':[397,487,396],'Wrap_mu':[62,95,79],'Hold_mu':[83,97,87],'Talk_std':[60,79,90],\\\n",
    "    'Wrap_std':[20,40,47],'Hold_std':[20,34,52],'Volume':[0.7,0.97,1],'Patience':[320,480,240],'Transfer':[0.3,0.22,0.34],'Agents':[321,94,9]}\n",
    "tier_params = pd.DataFrame(tier_params_dict)\n",
    "\"\"\""
   ]
  },
  {
   "cell_type": "code",
   "execution_count": 9,
   "metadata": {},
   "outputs": [
    {
     "name": "stdout",
     "output_type": "stream",
     "text": [
      "      Entered  Offered  Handled      Talk_Time      Ans_Time     Hold_Time  \\\n",
      "Tier                                                                         \n",
      "T1      699.7    631.9    573.3  227662.804807  53182.870170  47669.875393   \n",
      "T2      267.4    149.3    112.7   55197.086070   8754.951897  11161.822467   \n",
      "T3       28.6     23.9     12.7    5110.801947    802.410111   1150.246381   \n",
      "\n",
      "         Wrap_Time  Transfer  Abandon  Within_Svc_Lvl  Iteration  Abndn_pct  \\\n",
      "Tier                                                                          \n",
      "T1    35384.221020     172.1     58.6           321.1        4.5   0.092489   \n",
      "T2    10624.329736      26.7     36.6            94.8        4.5   0.240556   \n",
      "T3      959.448728       4.8     11.2             8.3        4.5   0.464368   \n",
      "\n",
      "        Avg_Talk   Svc_Lvl        ASA  \n",
      "Tier                                   \n",
      "T1    397.119714  0.508328  92.785685  \n",
      "T2    489.834607  0.638957  77.397323  \n",
      "T3    404.702989  0.356738  61.473019  \n"
     ]
    }
   ],
   "source": [
    "# This runs the simulation using the parameters defined above and creates the results dataframe\n",
    "results  = run_Simulation(sim_params,tier_params)"
   ]
  },
  {
   "cell_type": "code",
   "execution_count": 10,
   "metadata": {},
   "outputs": [
    {
     "data": {
      "image/png": "[encoded data removed]",
      "text/plain": [
       "<Figure size 432x288 with 1 Axes>"
      ]
     },
     "metadata": {
      "needs_background": "light"
     },
     "output_type": "display_data"
    },
    {
     "data": {
      "image/png": "[encoded data removed]",
      "text/plain": [
       "<Figure size 432x288 with 1 Axes>"
      ]
     },
     "metadata": {
      "needs_background": "light"
     },
     "output_type": "display_data"
    },
    {
     "data": {
      "image/png": "[encoded data removed]",
      "text/plain": [
       "<Figure size 432x288 with 1 Axes>"
      ]
     },
     "metadata": {
      "needs_background": "light"
     },
     "output_type": "display_data"
    }
   ],
   "source": [
    "# code for presenting histogram of results\n",
    "\n",
    "plotHistogram(results,'ASA')\n",
    "plotHistogram(results,'Svc_Lvl')\n",
    "plotHistogram(results,'Abndn_pct')"
   ]
  },
  {
   "cell_type": "code",
   "execution_count": null,
   "metadata": {},
   "outputs": [],
   "source": [
    "# code for running multiple simulation scenarios"
   ]
  }
 ],
 "metadata": {
  "interpreter": {
   "hash": "19387d77c07516ee7cd8d550b7b14ef670e57b8ffe70da756dee163e34509cf3"
  },
  "kernelspec": {
   "display_name": "Python 3.9.6 64-bit",
   "language": "python",
   "name": "python3"
  },
  "language_info": {
   "codemirror_mode": {
    "name": "ipython",
    "version": 3
   },
   "file_extension": ".py",
   "mimetype": "text/x-python",
   "name": "python",
   "nbconvert_exporter": "python",
   "pygments_lexer": "ipython3",
   "version": "3.9.6"
  },
  "orig_nbformat": 4
 },
 "nbformat": 4,
 "nbformat_minor": 2
}
