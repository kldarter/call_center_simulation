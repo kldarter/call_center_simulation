{
 "cells": [
  {
   "cell_type": "markdown",
   "metadata": {},
   "source": [
    "CONTACT CENTER SIMULATION"
   ]
  },
  {
   "cell_type": "code",
   "execution_count": 8,
   "metadata": {},
   "outputs": [],
   "source": [
    "from simulation import run_Simulation, plotHistogram\n",
    "import random\n",
    "import pandas as pd\n",
    "import simpy\n",
    "import numpy as np\n",
    "import ipysheet\n",
    "from ipysheet import sheet,cell,column,row,to_dataframe\n",
    "import matplotlib.pyplot as plt\n"
   ]
  },
  {
   "cell_type": "markdown",
   "metadata": {},
   "source": [
    "Create the parameters for the simulation:\n",
    "- Arrivals: rate of calls arriving in contact center\n",
    "- SIM_TIME: how long the simulation will run for\n",
    "- svc_lvl_thresh: the threshold for calculating service level\n",
    "- NUM_SIMS: the number of simulations run"
   ]
  },
  {
   "cell_type": "code",
   "execution_count": 10,
   "metadata": {},
   "outputs": [
    {
     "data": {
      "application/vnd.jupyter.widget-view+json": {
       "model_id": "e47b9dd9397b46f1a655fc89dc5ebab8",
       "version_major": 2,
       "version_minor": 0
      },
      "text/plain": [
       "Sheet(cells=(Cell(column_end=3, column_start=0, row_end=0, row_start=0, squeeze_column=False, type='numeric', …"
      ]
     },
     "metadata": {},
     "output_type": "display_data"
    }
   ],
   "source": [
    "# This creates the spreadsheet for user to enter the simulation parameters\n",
    "sim_sheet = sheet(rows=1,columns=4,column_headers=['Arrivals','SIM_TIME','svc_lvl_thresh','NUM_SIMS'])\n",
    "row(0,[1,600,30,100])\n",
    "sim_sheet"
   ]
  },
  {
   "cell_type": "code",
   "execution_count": 12,
   "metadata": {},
   "outputs": [
    {
     "name": "stdout",
     "output_type": "stream",
     "text": [
      "   Arrivals  SIM_TIME  svc_lvl_thresh  NUM_SIMS\n",
      "0         1       600              30       100\n"
     ]
    }
   ],
   "source": [
    "# Run this cell to generate the parameter dataframe for the simulation\n",
    "sim_params = to_dataframe(sim_sheet)\n",
    "print(sim_params)"
   ]
  },
  {
   "cell_type": "markdown",
   "metadata": {},
   "source": [
    "Create the parameters for each tier:\n",
    "- Tier: the label of each tier\n",
    "- Talk_mu: \n",
    "- Wrap_mu: \n",
    "- Hold_mu: \n",
    "- Talk_std: \n",
    "- Wrap_std: \n",
    "- Hold_std: \n",
    "- Volume: \n",
    "- Patience: \n",
    "- Transfer: \n",
    "- Agents: "
   ]
  },
  {
   "cell_type": "code",
   "execution_count": 4,
   "metadata": {},
   "outputs": [
    {
     "data": {
      "application/vnd.jupyter.widget-view+json": {
       "model_id": "ea2fc1c1195b4478bdefcaa027c880e9",
       "version_major": 2,
       "version_minor": 0
      },
      "text/plain": [
       "Sheet(cells=(Cell(column_end=10, column_start=0, row_end=0, row_start=0, squeeze_column=False, type='numeric',…"
      ]
     },
     "metadata": {},
     "output_type": "display_data"
    }
   ],
   "source": [
    "# Code to generate ipysheet for tier params based on user input for number of tiers\n",
    "\n",
    "# update num_tiers to the number of tiers in call center\n",
    "num_tiers = 3\n",
    "\n",
    "tier_sheet = sheet(rows=num_tiers,columns=11,column_headers=['Tier','Talk_mu','Wrap_mu','Hold_mu','Talk_std',\\\n",
    "    'Wrap_std','Hold_std','Volume','Patience','Transfer','Agents'])\n",
    "i = 0\n",
    "for i in range(num_tiers):\n",
    "    row(i,[0,0,0,0,0,0,0,0,0,0,0])\n",
    "\n",
    "tier_sheet"
   ]
  },
  {
   "cell_type": "code",
   "execution_count": 5,
   "metadata": {},
   "outputs": [
    {
     "name": "stdout",
     "output_type": "stream",
     "text": [
      "   Tier  Talk_mu  Wrap_mu  Hold_mu  Talk_std  Wrap_std  Hold_std  Volume  \\\n",
      "0     0        0        0        0         0         0         0       0   \n",
      "1     0        0        0        0         0         0         0       0   \n",
      "2     0        0        0        0         0         0         0       0   \n",
      "\n",
      "   Patience  Transfer  Agents  \n",
      "0         0         0       0  \n",
      "1         0         0       0  \n",
      "2         0         0       0  \n"
     ]
    }
   ],
   "source": [
    "tier_params = to_dataframe(tier_sheet)\n",
    "print(tier_params)"
   ]
  },
  {
   "cell_type": "code",
   "execution_count": 6,
   "metadata": {},
   "outputs": [],
   "source": [
    "\"\"\"\n",
    "This is an example of tier parameters for 3 tiers (without using ipysheet entry)\n",
    "Uncomment the lines below to generate the example tier_params values for the simulation.\n",
    "\"\"\"\n",
    "\n",
    "tier_params_dict = {'Tier':['T1','T2','T3'],'Talk_mu':[397,487,396],'Wrap_mu':[62,95,79],'Hold_mu':[83,97,87],'Talk_std':[60,79,90],\\\n",
    "    'Wrap_std':[20,40,47],'Hold_std':[20,34,52],'Volume':[0.7,0.97,1],'Patience':[320,480,240],'Transfer':[0.3,0.22,0.34],'Agents':[321,94,9]}\n",
    "tier_params = pd.DataFrame(tier_params_dict)\n",
    "\n"
   ]
  },
  {
   "cell_type": "code",
   "execution_count": 13,
   "metadata": {},
   "outputs": [
    {
     "name": "stdout",
     "output_type": "stream",
     "text": [
      "      Entered  Offered  Handled      Talk_Time      Ans_Time     Hold_Time  \\\n",
      "Tier                                                                         \n",
      "T1     695.85   631.19   574.20  228029.961766  52975.467133  47693.834790   \n",
      "T2     271.88   151.01   113.90   55448.410248   9380.678738  11002.933297   \n",
      "T3      29.27    24.15    13.42    5274.437103    996.922248   1178.745818   \n",
      "\n",
      "         Wrap_Time  Transfer  Abandon  Within_Svc_Lvl  Iteration  Abndn_pct  \\\n",
      "Tier                                                                          \n",
      "T1    35624.794282    172.41    56.99          321.18       49.5   0.089889   \n",
      "T2    10805.603248     25.04    37.11           94.66       49.5   0.243071   \n",
      "T3     1080.821549      5.00    10.73            8.43       49.5   0.436068   \n",
      "\n",
      "        Avg_Talk   Svc_Lvl        ASA  \n",
      "Tier                                   \n",
      "T1    397.144950  0.509197  92.260458  \n",
      "T2    486.901549  0.629392  82.052637  \n",
      "T3    394.581322  0.355071  73.300428  \n"
     ]
    }
   ],
   "source": [
    "results  = run_Simulation(sim_params,tier_params)"
   ]
  },
  {
   "cell_type": "code",
   "execution_count": 16,
   "metadata": {},
   "outputs": [
    {
     "data": {
      "image/png": "[encoded data removed]",
      "text/plain": [
       "<Figure size 432x288 with 1 Axes>"
      ]
     },
     "metadata": {
      "needs_background": "light"
     },
     "output_type": "display_data"
    },
    {
     "data": {
      "image/png": "[encoded data removed]",
      "text/plain": [
       "<Figure size 432x288 with 1 Axes>"
      ]
     },
     "metadata": {
      "needs_background": "light"
     },
     "output_type": "display_data"
    },
    {
     "data": {
      "image/png": "[encoded data removed]",
      "text/plain": [
       "<Figure size 432x288 with 1 Axes>"
      ]
     },
     "metadata": {
      "needs_background": "light"
     },
     "output_type": "display_data"
    }
   ],
   "source": [
    "# code for presenting results\n",
    "\n",
    "plotHistogram(results,'ASA')\n",
    "plotHistogram(results,'Svc_Lvl')\n",
    "plotHistogram(results,'Abndn_pct')"
   ]
  },
  {
   "cell_type": "code",
   "execution_count": null,
   "metadata": {},
   "outputs": [],
   "source": [
    "# code for running multiple simulation scenarios"
   ]
  }
 ],
 "metadata": {
  "interpreter": {
   "hash": "19387d77c07516ee7cd8d550b7b14ef670e57b8ffe70da756dee163e34509cf3"
  },
  "kernelspec": {
   "display_name": "Python 3.9.6 64-bit",
   "language": "python",
   "name": "python3"
  },
  "language_info": {
   "codemirror_mode": {
    "name": "ipython",
    "version": 3
   },
   "file_extension": ".py",
   "mimetype": "text/x-python",
   "name": "python",
   "nbconvert_exporter": "python",
   "pygments_lexer": "ipython3",
   "version": "3.9.6"
  },
  "orig_nbformat": 4
 },
 "nbformat": 4,
 "nbformat_minor": 2
}
